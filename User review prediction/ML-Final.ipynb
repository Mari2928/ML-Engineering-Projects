{
 "cells": [
  {
   "cell_type": "markdown",
   "metadata": {},
   "source": [
    "# Introduction\n",
    "\n",
    "This project picks a single dataset, creates a deep learning network, and experiments a series of models and parameters for the network following the universal workflow of Deep Learning with Python (DLWP). My network model is for binary classification and is based on Supervised Learning method. The model predicts movie review whether it is positive or negative. To develop the network that solves the problem, I identified the International Movie Data Base (IMDB) dataset. I selected this dataset because if we can predict the binary labels for movie reviews, we can expand the research and application that predicts the labels for text in other fields such as sentiment analysis. I examined all the possible subjects thoroughly to find the best model, interpreted each result, and derived the conclusion with insights. My model will also help evaluate the potential improvement and reproducibility discussed in the conclusion section. "
   ]
  },
  {
   "cell_type": "markdown",
   "metadata": {},
   "source": [
    "# Methodology\n",
    "\n",
    "To experiment with the training performance for the binary classification task in movie review prediction using the Supervised Learning method in Deep Learning, I implemented the following steps; I preprocessed the IMDB dataset, created the base model, and examined all relevant parameters to improve to the final model with the optimal parameters. Specifically, For the preprocessing part, to feed tensor input to the network, I used 10000 words from the IMDB dataset and encoded them into a one-hot vector with the binary floating values. For the examination part, I tested with hidden layers, hidden units, loss functions, activation functions, and learning rates using a temporary optimal epoch. I tuned the model with the optimal parameters to get the best network. This final network model is used to train on the complete training set for the binary classification task with the optimal epochs. The benefits of this experiment strategy are the robust network with improved binary classification performance, resulting in a better movie review prediction from the given review text."
   ]
  },
  {
   "cell_type": "markdown",
   "metadata": {},
   "source": [
    "# Model Examination\n",
    "\n",
    "To build the best DL network that gives the best training results, I implemented the above methodology in this section. The examination experiments of a series of models and parameters, and their results are as follows. \n",
    "\n",
    "This section refers code from the lecture notebook 9.210 IMDB[1]."
   ]
  },
  {
   "cell_type": "markdown",
   "metadata": {},
   "source": [
    "## Preprocess Dataset\n",
    "\n",
    "Prepare functions for preprocessing: import the necessary libraries, download IMDB dataset, and preprocess the dataset for training using the specified words. "
   ]
  },
  {
   "cell_type": "code",
   "execution_count": 1,
   "metadata": {},
   "outputs": [],
   "source": [
    "from tensorflow.keras.datasets import imdb\n",
    "from tensorflow.keras import models\n",
    "from tensorflow.keras import layers\n",
    "import matplotlib.pyplot as plt\n",
    "import numpy as np\n",
    "\n",
    "def vectorize_sequences(sequences, dimension = 10000):\n",
    "    \"\"\"\n",
    "    Vectorize sequences and create a one-hot vector.\n",
    "    \n",
    "    Parameters\n",
    "    ----------\n",
    "    sequences : ndarray\n",
    "    (n, d) NumPy array contains n lists with d words in encoded value.\n",
    "    \n",
    "    dimension : int\n",
    "    The number of dimention. Set 10000 by default.\n",
    "    \n",
    "    Return\n",
    "    ----------\n",
    "    (n, 10000) NumPy array contains n lists with 10000 dimentions of a one-hot vector.\n",
    "    \n",
    "    \"\"\"  \n",
    "    results = np.zeros( (len(sequences), dimension) )\n",
    "    for i, sequence in enumerate(sequences):\n",
    "        results[i, sequence] = 1.\n",
    "    return results\n",
    "\n",
    "\n",
    "def preprocess(num_of_words):\n",
    "    \"\"\"\n",
    "    Preprocess dataset: load it, vectorize it, and split it.\n",
    "    \n",
    "    Parameters\n",
    "    ----------\n",
    "    num_of_words : int\n",
    "    The number of words to be loaded from the dataset.\n",
    "    \n",
    "    Return\n",
    "    ----------\n",
    "    x_val : NumPy array of validation set for x. \n",
    "    partial_x_train : NumPy array of training set for x.\n",
    "    y_val : NumPy array of validation set for y.\n",
    "    partial_y_train : NumPy array of training set for y.\n",
    "    x_test : NumPy array of test set for x.\n",
    "    y_test : NumPy array of test set for y.\n",
    "    \n",
    "    \"\"\"\n",
    "    # load IMDB dataset with the specified words\n",
    "    ((train_data, train_labels), (test_data, test_labels)) = imdb.load_data(num_words = num_of_words)\n",
    "\n",
    "    # preprocess with vectorizing\n",
    "    x_train = vectorize_sequences(train_data, dimension = num_of_words)\n",
    "    x_test = vectorize_sequences(test_data, dimension = num_of_words)\n",
    "\n",
    "    y_train = np.asarray(train_labels).astype('float32')\n",
    "    y_test = np.asarray(test_labels).astype('float32')\n",
    "    \n",
    "    # split data \n",
    "    x_val = x_train[:10000]\n",
    "    partial_x_train = x_train[10000:]\n",
    "    y_val = y_train[:10000]\n",
    "    partial_y_train = y_train[10000:]\n",
    "    \n",
    "    return x_val, partial_x_train, y_val, partial_y_train, x_test, y_test\n"
   ]
  },
  {
   "cell_type": "markdown",
   "metadata": {},
   "source": [
    "Preprocess the dataset for training using 10000 words. "
   ]
  },
  {
   "cell_type": "code",
   "execution_count": 3,
   "metadata": {},
   "outputs": [
    {
     "name": "stdout",
     "output_type": "stream",
     "text": [
      "Downloading data from https://storage.googleapis.com/tensorflow/tf-keras-datasets/imdb.npz\n",
      "17465344/17464789 [==============================] - 0s 0us/step\n"
     ]
    }
   ],
   "source": [
    "x_val, partial_x_train, y_val, partial_y_train, x_test, y_test = preprocess(10000)"
   ]
  },
  {
   "cell_type": "markdown",
   "metadata": {},
   "source": [
    "## Prepare helpers\n",
    "\n",
    "They support plotting accuracy and loss."
   ]
  },
  {
   "cell_type": "code",
   "execution_count": 2,
   "metadata": {},
   "outputs": [],
   "source": [
    "from tensorflow.keras import optimizers\n",
    "import matplotlib.pyplot as plt\n",
    "\n",
    "def train(model, epochs, optimizer='rmsprop', loss='binary_crossentropy'):\n",
    "    \"\"\"\n",
    "    Train the model with the specified parameters.\n",
    "    \n",
    "    Parameters\n",
    "    ----------\n",
    "    model : tensorflow.python.keras.engine.sequential.Sequential\n",
    "    Tensorflow keras sequential model.\n",
    "    \n",
    "    epochs : int\n",
    "    The number of epochs.\n",
    "    \n",
    "    optimizer : str\n",
    "    The optimizer name. Set 'rmsprop' by default.\n",
    "    \n",
    "    loss : str\n",
    "    The loss function name. Set 'binary_crossentropy' by default.\n",
    "    \n",
    "    Return : tensorflow.python.keras.callbacks.History\n",
    "    ----------\n",
    "    history : The training history.\n",
    "    \n",
    "    \"\"\"  \n",
    "    model.compile(optimizer, loss, metrics=['accuracy'])\n",
    "    history = model.fit(partial_x_train, \n",
    "                        partial_y_train,\n",
    "                        epochs = epochs,\n",
    "                        batch_size=512,\n",
    "                        verbose=0,\n",
    "                        validation_data = (x_val, y_val)) \n",
    "    return history\n",
    "\n",
    "def plot_accuracy(history):\n",
    "    \"\"\"\n",
    "    Plot the history of accuracy.\n",
    "    \n",
    "    Parameters\n",
    "    ----------\n",
    "    history : tensorflow.python.keras.callbacks.History\n",
    "    The training history.\n",
    "    \n",
    "    \"\"\"  \n",
    "    history_dict = history.history\n",
    "    plt.clf()\n",
    "\n",
    "    acc = history_dict['accuracy']\n",
    "    val_acc = history_dict['val_accuracy']\n",
    "    val_loss = history_dict['val_loss']\n",
    "    epochs = range(1, len(acc) + 1)\n",
    "\n",
    "    blue_dots = 'bo'\n",
    "    solid_blue_line = 'b'\n",
    "\n",
    "    plt.plot(epochs, acc, blue_dots, label = 'Training acc')\n",
    "    plt.plot(epochs, val_acc, solid_blue_line, label = 'Validation acc')\n",
    "    plt.title('Training and validation acc')\n",
    "    plt.xlabel('Epochs')\n",
    "    plt.ylabel('Accuracy')\n",
    "    plt.legend()\n",
    "    plt.show()\n",
    "    \n",
    "def plot_loss(history):\n",
    "    \"\"\"\n",
    "    Plot the history of loss.\n",
    "    \n",
    "    Parameters\n",
    "    ----------\n",
    "    history : tensorflow.python.keras.callbacks.History\n",
    "    The training history.\n",
    "    \n",
    "    \"\"\" \n",
    "    history_dict = history.history\n",
    "    loss = history_dict['loss']\n",
    "    val_loss = history_dict['val_loss']\n",
    "\n",
    "    epochs = range(1, len(loss) + 1)\n",
    "\n",
    "    blue_dots = 'bo'\n",
    "    solid_blue_line = 'b'\n",
    "\n",
    "    plt.plot(epochs, loss, blue_dots, label = 'Training loss')\n",
    "    plt.plot(epochs, val_loss, solid_blue_line, label = 'Validation loss')\n",
    "    plt.title('Training and validation loss')\n",
    "    plt.xlabel('Epochs')\n",
    "    plt.ylabel('Loss')\n",
    "    plt.legend()\n",
    "    plt.show()"
   ]
  },
  {
   "cell_type": "markdown",
   "metadata": {},
   "source": [
    "## Build the base model\n",
    "\n",
    "Base model uses 2 hidden layers, 16 units for each, relu activation, rmsprop optimizer, and binary crossentropy as loss function."
   ]
  },
  {
   "cell_type": "code",
   "execution_count": 3,
   "metadata": {},
   "outputs": [
    {
     "name": "stdout",
     "output_type": "stream",
     "text": [
      "Max accuracy: 0.8883000016212463\n"
     ]
    },
    {
     "data": {
      "image/png": "[encoded data removed]",
      "text/plain": [
       "<Figure size 432x288 with 1 Axes>"
      ]
     },
     "metadata": {
      "needs_background": "light"
     },
     "output_type": "display_data"
    }
   ],
   "source": [
    "model = models.Sequential()\n",
    "model.add(layers.Dense(16, activation = 'relu', input_shape = (10000,)))\n",
    "model.add(layers.Dense(16, activation = 'relu'))\n",
    "model.add(layers.Dense(1, activation = 'sigmoid'))\n",
    "\n",
    "history = train(model, epochs=20)\n",
    "print(\"Max accuracy:\", max(history.history['val_accuracy']))\n",
    "\n",
    "# plot training and validation accuracy against epochs\n",
    "plot_accuracy(history)"
   ]
  },
  {
   "cell_type": "markdown",
   "metadata": {},
   "source": [
    "## Find the optimal epoch\n",
    "\n",
    "This optimal epoch will be used throughout the experiments follow. "
   ]
  },
  {
   "cell_type": "code",
   "execution_count": 4,
   "metadata": {},
   "outputs": [
    {
     "name": "stdout",
     "output_type": "stream",
     "text": [
      "Optimal epochs: 3\n"
     ]
    }
   ],
   "source": [
    "val_loss = history.history['val_loss']\n",
    "optimal_epoch = np.argmin(val_loss)\n",
    "print(\"Optimal epochs:\", optimal_epoch)"
   ]
  },
  {
   "cell_type": "markdown",
   "metadata": {},
   "source": [
    "## Training and Validation Loss\n",
    "\n",
    "Check training and validation loss for the base model. We can see that the validation loss starts increasing after the optimal epochs."
   ]
  },
  {
   "cell_type": "code",
   "execution_count": 5,
   "metadata": {},
   "outputs": [
    {
     "data": {
      "image/png": "[encoded data removed]",
      "text/plain": [
       "<Figure size 432x288 with 1 Axes>"
      ]
     },
     "metadata": {
      "needs_background": "light"
     },
     "output_type": "display_data"
    }
   ],
   "source": [
    "plot_loss(history)"
   ]
  },
  {
   "cell_type": "markdown",
   "metadata": {},
   "source": [
    "# Results\n",
    "\n",
    "## Experiment with Hidden Layers\n",
    "\n",
    "Start experimenting with the optimal epochs, starting from 0 hidden layer."
   ]
  },
  {
   "cell_type": "code",
   "execution_count": 34,
   "metadata": {},
   "outputs": [
    {
     "name": "stdout",
     "output_type": "stream",
     "text": [
      "Accuracy at optimal epochs: 0.8521999716758728\n"
     ]
    }
   ],
   "source": [
    "model = models.Sequential()\n",
    "model.add(layers.Dense(1, activation = 'sigmoid'))\n",
    "\n",
    "history = train(model, optimal_epoch)\n",
    "print(\"Accuracy at optimal epochs:\", history.history['val_accuracy'][-1])"
   ]
  },
  {
   "cell_type": "markdown",
   "metadata": {},
   "source": [
    "1 hidden layer."
   ]
  },
  {
   "cell_type": "code",
   "execution_count": 12,
   "metadata": {},
   "outputs": [
    {
     "name": "stdout",
     "output_type": "stream",
     "text": [
      "Accuracy at optimal epochs: 0.8763999938964844\n"
     ]
    }
   ],
   "source": [
    "model = models.Sequential()\n",
    "model.add(layers.Dense(16, activation = 'relu', input_shape = (10000,)))\n",
    "model.add(layers.Dense(1, activation = 'sigmoid'))\n",
    "\n",
    "history = train(model, optimal_epoch)\n",
    "print(\"Accuracy at optimal epochs:\", history.history['val_accuracy'][-1])"
   ]
  },
  {
   "cell_type": "markdown",
   "metadata": {},
   "source": [
    "2 hidden layers."
   ]
  },
  {
   "cell_type": "code",
   "execution_count": 13,
   "metadata": {},
   "outputs": [
    {
     "name": "stdout",
     "output_type": "stream",
     "text": [
      "Accuracy at optimal epochs: 0.8873000144958496\n"
     ]
    }
   ],
   "source": [
    "model = models.Sequential()\n",
    "model.add(layers.Dense(16, activation = 'relu', input_shape = (10000,)))\n",
    "model.add(layers.Dense(16, activation = 'relu'))\n",
    "model.add(layers.Dense(1, activation = 'sigmoid'))\n",
    "\n",
    "history = train(model, optimal_epoch)\n",
    "print(\"Accuracy at optimal epochs:\", history.history['val_accuracy'][-1])"
   ]
  },
  {
   "cell_type": "markdown",
   "metadata": {},
   "source": [
    "3 hidden layers"
   ]
  },
  {
   "cell_type": "code",
   "execution_count": 14,
   "metadata": {},
   "outputs": [
    {
     "name": "stdout",
     "output_type": "stream",
     "text": [
      "Accuracy at optimal epochs: 0.8720999956130981\n"
     ]
    }
   ],
   "source": [
    "model = models.Sequential()\n",
    "model.add(layers.Dense(16, activation = 'relu', input_shape = (10000,)))\n",
    "model.add(layers.Dense(16, activation = 'relu'))\n",
    "model.add(layers.Dense(16, activation = 'relu'))\n",
    "model.add(layers.Dense(1, activation = 'sigmoid'))\n",
    "\n",
    "history = train(model, optimal_epoch)\n",
    "print(\"Accuracy at optimal epochs:\", history.history['val_accuracy'][-1])"
   ]
  },
  {
   "cell_type": "markdown",
   "metadata": {},
   "source": [
    "## Hidden Layer Results\n",
    "\n",
    "On average, 2 hidden layers tend to perform better for this network. Throughout 4 times of experiments, I cannot say which one always performs best, so I took average. \n",
    "\n",
    "|  Hidden layer  |  Accuracy1  |  Accuracy2  |  Accuracy3  |  Accuracy4  |  Average  |\n",
    "| ---- | ---- | ---- | ---- | ---- | ---- |\n",
    "|  0  |  0.8542  |  0.8554  |  0.8524  |  0.8521  |  0.8535  |\n",
    "|  1  |  0.8750  |  0.8877  |  0.8917  |  0.8763  |  0.8826  |\n",
    "|  2  |  0.8878  |  0.8899  |  0.8813  |  0.8873  |  0.8865  |\n",
    "|  3  |  0.8820  |  0.8909  |  0.8924  |  0.8720  |  0.8843  |"
   ]
  },
  {
   "cell_type": "markdown",
   "metadata": {},
   "source": [
    "## Experiment with hidden units\n",
    "\n",
    "Use the optimal 2 hidden layers and experiment with 64 hidden units."
   ]
  },
  {
   "cell_type": "code",
   "execution_count": 18,
   "metadata": {},
   "outputs": [
    {
     "name": "stdout",
     "output_type": "stream",
     "text": [
      "Accuracy at optimal epochs: 0.8848000168800354\n"
     ]
    }
   ],
   "source": [
    "model = models.Sequential()\n",
    "model.add(layers.Dense(64, activation = 'relu', input_shape = (10000,)))\n",
    "model.add(layers.Dense(64, activation = 'relu'))\n",
    "model.add(layers.Dense(1, activation = 'sigmoid'))\n",
    "\n",
    "history = train(model, optimal_epoch)\n",
    "print(\"Accuracy at optimal epochs:\", history.history['val_accuracy'][-1])"
   ]
  },
  {
   "cell_type": "markdown",
   "metadata": {},
   "source": [
    "Experiment with 32 hidden units."
   ]
  },
  {
   "cell_type": "code",
   "execution_count": 16,
   "metadata": {},
   "outputs": [
    {
     "name": "stdout",
     "output_type": "stream",
     "text": [
      "Accuracy at optimal epochs: 0.8776000142097473\n"
     ]
    }
   ],
   "source": [
    "model = models.Sequential()\n",
    "model.add(layers.Dense(32, activation = 'relu', input_shape = (10000,)))\n",
    "model.add(layers.Dense(32, activation = 'relu'))\n",
    "model.add(layers.Dense(1, activation = 'sigmoid'))\n",
    "\n",
    "history = train(model, optimal_epoch)\n",
    "print(\"Accuracy at optimal epochs:\", history.history['val_accuracy'][-1])"
   ]
  },
  {
   "cell_type": "markdown",
   "metadata": {},
   "source": [
    "Experiment with 16 hidden units."
   ]
  },
  {
   "cell_type": "code",
   "execution_count": 15,
   "metadata": {},
   "outputs": [
    {
     "name": "stdout",
     "output_type": "stream",
     "text": [
      "Accuracy at optimal epochs: 0.8891000151634216\n"
     ]
    }
   ],
   "source": [
    "model = models.Sequential()\n",
    "model.add(layers.Dense(16, activation = 'relu', input_shape = (10000,)))\n",
    "model.add(layers.Dense(16, activation = 'relu'))\n",
    "model.add(layers.Dense(1, activation = 'sigmoid'))\n",
    "\n",
    "history = train(model, optimal_epoch)\n",
    "print(\"Accuracy at optimal epochs:\", history.history['val_accuracy'][-1])"
   ]
  },
  {
   "cell_type": "markdown",
   "metadata": {},
   "source": [
    "## Hidden units results\n",
    "\n",
    "16 hidden units tend to perform best for this network.\n",
    "\n",
    "|  Hidden units  |  Accuracy1  |  Accuracy2  |  Accuracy3  |  Accuracy4  |  Average  |\n",
    "| ---- | ---- | ---- | ---- | ---- | ---- |\n",
    "|  16  |  0.8891  |  0.8883  |  0.8889  |  0.8863  |  0.8881  |\n",
    "|  32  |  0.8776  |  0.8877  |  0.8842  |  0.8867  |  0.8840  |\n",
    "|  64  |  0.8518  |  0.8244  |  0.8848  |  0.8808  |  0.8604  |"
   ]
  },
  {
   "cell_type": "markdown",
   "metadata": {},
   "source": [
    "## Experiment with loss function\n",
    "\n",
    "Use the optimal number of 16 hidden units with 2 hidden layers, investigate replacing the `binary_crossentropy` loss function with `mse`."
   ]
  },
  {
   "cell_type": "code",
   "execution_count": 29,
   "metadata": {},
   "outputs": [
    {
     "name": "stdout",
     "output_type": "stream",
     "text": [
      "Accuracy at optimal epochs: 0.8809000253677368\n"
     ]
    }
   ],
   "source": [
    "model = models.Sequential()\n",
    "model.add(layers.Dense(16, activation = 'relu', input_shape = (10000,)))\n",
    "model.add(layers.Dense(16, activation = 'relu'))\n",
    "model.add(layers.Dense(1, activation = 'sigmoid'))\n",
    "\n",
    "history = train(model, optimal_epoch, loss='mse')\n",
    "print(\"Accuracy at optimal epochs:\", history.history['val_accuracy'][-1])"
   ]
  },
  {
   "cell_type": "code",
   "execution_count": 26,
   "metadata": {},
   "outputs": [
    {
     "name": "stdout",
     "output_type": "stream",
     "text": [
      "Accuracy at optimal epochs: 0.8888000249862671\n"
     ]
    }
   ],
   "source": [
    "model = models.Sequential()\n",
    "model.add(layers.Dense(16, activation = 'relu', input_shape = (10000,)))\n",
    "model.add(layers.Dense(16, activation = 'relu'))\n",
    "model.add(layers.Dense(1, activation = 'sigmoid'))\n",
    "\n",
    "history = train(model, optimal_epoch, loss='binary_crossentropy')\n",
    "print(\"Accuracy at optimal epochs:\", history.history['val_accuracy'][-1])"
   ]
  },
  {
   "cell_type": "markdown",
   "metadata": {},
   "source": [
    "## Loss function results\n",
    "\n",
    "Throughout the 4 experiments, results vary and there is no significant difference between two loss functions on average.\n",
    "\n",
    "|  Loss function  |  Accuracy1  |  Accuracy2  |  Accuracy3  |  Accuracy4  |  Average  |\n",
    "| ---- | ---- | ---- | ---- | ---- | ---- |\n",
    "|  binary_crossentropy  |  0.8888  |  0.8852  |  0.8906  |  0.8907  |  0.8888  |\n",
    "|  mse  |  0.8809  |  0.8877  |  0.8909  |  0.8881  |  0.8869  |"
   ]
  },
  {
   "cell_type": "markdown",
   "metadata": {},
   "source": [
    "## Experiment with activations \n",
    "\n",
    "Try `tanh` activation."
   ]
  },
  {
   "cell_type": "code",
   "execution_count": 38,
   "metadata": {},
   "outputs": [
    {
     "name": "stdout",
     "output_type": "stream",
     "text": [
      "Accuracy at optimal epochs: 0.8902999758720398\n"
     ]
    }
   ],
   "source": [
    "model = models.Sequential()\n",
    "model.add(layers.Dense(16, activation = 'tanh', input_shape = (10000,)))\n",
    "model.add(layers.Dense(16, activation = 'tanh'))\n",
    "model.add(layers.Dense(1, activation = 'sigmoid'))\n",
    "\n",
    "history = train(model, optimal_epoch)\n",
    "print(\"Accuracy at optimal epochs:\", history.history['val_accuracy'][-1])"
   ]
  },
  {
   "cell_type": "markdown",
   "metadata": {},
   "source": [
    "Try `relu` activation."
   ]
  },
  {
   "cell_type": "code",
   "execution_count": 42,
   "metadata": {},
   "outputs": [
    {
     "name": "stdout",
     "output_type": "stream",
     "text": [
      "Accuracy at optimal epochs: 0.8920999765396118\n"
     ]
    }
   ],
   "source": [
    "model = models.Sequential()\n",
    "model.add(layers.Dense(16, activation = 'relu', input_shape = (10000,)))\n",
    "model.add(layers.Dense(16, activation = 'relu'))\n",
    "model.add(layers.Dense(1, activation = 'sigmoid'))\n",
    "\n",
    "history = train(model, optimal_epoch)\n",
    "print(\"Accuracy at optimal epochs:\", history.history['val_accuracy'][-1])"
   ]
  },
  {
   "cell_type": "markdown",
   "metadata": {},
   "source": [
    "Try `sigmoid` activation."
   ]
  },
  {
   "cell_type": "code",
   "execution_count": 46,
   "metadata": {},
   "outputs": [
    {
     "name": "stdout",
     "output_type": "stream",
     "text": [
      "Accuracy at optimal epochs: 0.8608999848365784\n"
     ]
    }
   ],
   "source": [
    "model = models.Sequential()\n",
    "model.add(layers.Dense(16, activation = 'sigmoid', input_shape = (10000,)))\n",
    "model.add(layers.Dense(16, activation = 'sigmoid'))\n",
    "model.add(layers.Dense(1, activation = 'sigmoid'))\n",
    "\n",
    "history = train(model, optimal_epoch)\n",
    "print(\"Accuracy at optimal epochs:\", history.history['val_accuracy'][-1])"
   ]
  },
  {
   "cell_type": "markdown",
   "metadata": {},
   "source": [
    "## Activations results\n",
    "\n",
    "Throughout 4 experiments, relu performed best for this network.\n",
    "\n",
    "|  Activations  |  Accuracy1  |  Accuracy2  |  Accuracy3  |  Accuracy4  |  Average  |\n",
    "| ---- | ---- | ---- | ---- | ---- | ---- |\n",
    "|  relu  |  0.8830  |  0.8913  |  0.8919  |   0.8920  |   0.8895  | \n",
    "|  tanh  |  0.8805  |  0.8903  |  0.8877  |   0.8902  |   0.8871  | \n",
    "|  sigmoid  |  0.8560  |  0.8547  |  0.8597  |   0.8608  |   0.8578  |"
   ]
  },
  {
   "cell_type": "markdown",
   "metadata": {},
   "source": [
    "## Experiment with learning rates\n",
    "\n",
    "Use the optimal number of hidden layers, hidden units, and the bset activation, investigate the effect of different learning rates."
   ]
  },
  {
   "cell_type": "code",
   "execution_count": 64,
   "metadata": {},
   "outputs": [
    {
     "name": "stdout",
     "output_type": "stream",
     "text": [
      "Accuracy at optimal epochs: 0.8902999758720398\n"
     ]
    }
   ],
   "source": [
    "model = models.Sequential()\n",
    "model.add(layers.Dense(16, activation = 'relu', input_shape = (10000,)))\n",
    "model.add(layers.Dense(16, activation = 'relu'))\n",
    "model.add(layers.Dense(1, activation = 'sigmoid'))\n",
    "\n",
    "history = train(model, optimal_epoch, optimizer=optimizers.RMSprop(lr=0.001))\n",
    "print(\"Accuracy at optimal epochs:\", history.history['val_accuracy'][-1])"
   ]
  },
  {
   "cell_type": "markdown",
   "metadata": {},
   "source": [
    "## Learning rates results\n",
    "\n",
    "Throughout 4 experiments for the series of learning rates, \n",
    "\n",
    "- learning rate of 0.001 tends to perform best for this network.\n",
    "- other learning rates under 0.01 also seem to be promising.\n",
    "- performance starts decreasing and becoming unstable with the learning rates above 0.01 \n",
    "\n",
    "|  Learning Rate  |  Accuracy1  |  Accuracy2  |  Accuracy3  |  Accuracy4  |  Average  |\n",
    "| ---- | ---- | ---- | --- | --- | --- |\n",
    "|  0.001  |  0.8924  |  0.8888  |  0.8856  |  0.8902  |  0.8892  |\n",
    "|  0.005  |  0.8871  |  0.8862  |  0.8891  |  0.8816  |  0.886  |\n",
    "|  0.007  |  0.8855  |  0.8848  |  0.8887  |  0.8841  |  0.8857  |\n",
    "|  0.01  |  0.8799  |  0.8809  |  0.8858  |  0.8748  |  0.8803  |\n",
    "|  0.015  |  0.8626  |  0.8842  |  0.8866  |  0.8819  |  0.8788  |\n",
    "|  0.02  |  0.8481  |  0.8580  |  0.8518  |  0.8813  |  0.8598  |\n",
    "|  0.03  |  0.8766  |  0.8834  |  0.8777  |  0.8841  |  0.8804  |"
   ]
  },
  {
   "cell_type": "markdown",
   "metadata": {},
   "source": [
    "## Experiment with the number of words\n",
    "\n",
    "Try changing the number of words to use for training and see if it affects the network performance. \n",
    "First, try with 10000 words."
   ]
  },
  {
   "cell_type": "code",
   "execution_count": 19,
   "metadata": {},
   "outputs": [
    {
     "name": "stdout",
     "output_type": "stream",
     "text": [
      "Accuracy at optimal epochs: 0.8906999826431274\n"
     ]
    }
   ],
   "source": [
    "x_val, partial_x_train, y_val, partial_y_train, x_test, y_test = preprocess(10000)\n",
    "\n",
    "model = models.Sequential()\n",
    "model.add(layers.Dense(16, activation = 'relu', input_shape = (10000,)))\n",
    "model.add(layers.Dense(16, activation = 'relu'))\n",
    "model.add(layers.Dense(1, activation = 'sigmoid'))\n",
    "\n",
    "history = train(model, optimal_epoch, optimizer=optimizers.RMSprop(lr=0.001))\n",
    "print(\"Accuracy at optimal epochs:\", history.history['val_accuracy'][-1])"
   ]
  },
  {
   "cell_type": "markdown",
   "metadata": {},
   "source": [
    "Try with 12500 words."
   ]
  },
  {
   "cell_type": "code",
   "execution_count": 18,
   "metadata": {},
   "outputs": [
    {
     "name": "stdout",
     "output_type": "stream",
     "text": [
      "Accuracy at optimal epochs: 0.8938999772071838\n"
     ]
    }
   ],
   "source": [
    "x_val, partial_x_train, y_val, partial_y_train, x_test, y_test = preprocess(12500)\n",
    "\n",
    "model = models.Sequential()\n",
    "model.add(layers.Dense(16, activation = 'relu', input_shape = (12500,)))\n",
    "model.add(layers.Dense(16, activation = 'relu'))\n",
    "model.add(layers.Dense(1, activation = 'sigmoid'))\n",
    "\n",
    "history = train(model, optimal_epoch, optimizer=optimizers.RMSprop(lr=0.001))\n",
    "print(\"Accuracy at optimal epochs:\", history.history['val_accuracy'][-1])"
   ]
  },
  {
   "cell_type": "markdown",
   "metadata": {},
   "source": [
    "Try with 13500 words."
   ]
  },
  {
   "cell_type": "code",
   "execution_count": 16,
   "metadata": {},
   "outputs": [
    {
     "name": "stdout",
     "output_type": "stream",
     "text": [
      "Accuracy at optimal epochs: 0.8932999968528748\n"
     ]
    }
   ],
   "source": [
    "x_val, partial_x_train, y_val, partial_y_train, x_test, y_test = preprocess(13500)\n",
    "\n",
    "model = models.Sequential()\n",
    "model.add(layers.Dense(16, activation = 'relu', input_shape = (13500,)))\n",
    "model.add(layers.Dense(16, activation = 'relu'))\n",
    "model.add(layers.Dense(1, activation = 'sigmoid'))\n",
    "\n",
    "history = train(model, optimal_epoch, optimizer=optimizers.RMSprop(lr=0.001))\n",
    "print(\"Accuracy at optimal epochs:\", history.history['val_accuracy'][-1])"
   ]
  },
  {
   "cell_type": "markdown",
   "metadata": {},
   "source": [
    "Try with 15000 words."
   ]
  },
  {
   "cell_type": "code",
   "execution_count": 14,
   "metadata": {},
   "outputs": [
    {
     "name": "stdout",
     "output_type": "stream",
     "text": [
      "Accuracy at optimal epochs: 0.8920999765396118\n"
     ]
    }
   ],
   "source": [
    "x_val, partial_x_train, y_val, partial_y_train, x_test, y_test = preprocess(15000)\n",
    "\n",
    "model = models.Sequential()\n",
    "model.add(layers.Dense(16, activation = 'relu', input_shape = (15000,)))\n",
    "model.add(layers.Dense(16, activation = 'relu'))\n",
    "model.add(layers.Dense(1, activation = 'sigmoid'))\n",
    "\n",
    "history = train(model, optimal_epoch, optimizer=optimizers.RMSprop(lr=0.001))\n",
    "print(\"Accuracy at optimal epochs:\", history.history['val_accuracy'][-1])"
   ]
  },
  {
   "cell_type": "markdown",
   "metadata": {},
   "source": [
    "Try with 20000 words."
   ]
  },
  {
   "cell_type": "code",
   "execution_count": 11,
   "metadata": {},
   "outputs": [
    {
     "name": "stdout",
     "output_type": "stream",
     "text": [
      "Accuracy at optimal epochs: 0.8949999809265137\n"
     ]
    }
   ],
   "source": [
    "x_val, partial_x_train, y_val, partial_y_train, x_test, y_test = preprocess(20000)\n",
    "\n",
    "model = models.Sequential()\n",
    "model.add(layers.Dense(16, activation = 'relu', input_shape = (20000,)))\n",
    "model.add(layers.Dense(16, activation = 'relu'))\n",
    "model.add(layers.Dense(1, activation = 'sigmoid'))\n",
    "\n",
    "history = train(model, optimal_epoch, optimizer=optimizers.RMSprop(lr=0.001))\n",
    "print(\"Accuracy at optimal epochs:\", history.history['val_accuracy'][-1])"
   ]
  },
  {
   "cell_type": "markdown",
   "metadata": {},
   "source": [
    "Try with 25000 words."
   ]
  },
  {
   "cell_type": "code",
   "execution_count": 22,
   "metadata": {},
   "outputs": [
    {
     "name": "stdout",
     "output_type": "stream",
     "text": [
      "Accuracy at optimal epochs: 0.8960000276565552\n"
     ]
    }
   ],
   "source": [
    "x_val, partial_x_train, y_val, partial_y_train, x_test, y_test = preprocess(25000)\n",
    "\n",
    "model = models.Sequential()\n",
    "model.add(layers.Dense(16, activation = 'relu', input_shape = (25000,)))\n",
    "model.add(layers.Dense(16, activation = 'relu'))\n",
    "model.add(layers.Dense(1, activation = 'sigmoid'))\n",
    "\n",
    "history = train(model, optimal_epoch, optimizer=optimizers.RMSprop(lr=0.001))\n",
    "print(\"Accuracy at optimal epochs:\", history.history['val_accuracy'][-1])"
   ]
  },
  {
   "cell_type": "markdown",
   "metadata": {},
   "source": [
    "## The number of words results\n",
    "\n",
    "Throughout 2 experiments, \n",
    "\n",
    "- accuracy improves as increase the number of words used for training.\n",
    "- 25000 seems to be the best number of words for this network.\n",
    "\n",
    "|  Words  |  Accuracy1  |  Accuracy2  | \n",
    "| ---- | ---- | ---- |\n",
    "|  10000  |  0.8896  |  0.8906  |\n",
    "|  12500  |  0.8840  |  0.8938  | \n",
    "|  13500  |  0.8942  |  0.8932  | \n",
    "|  15000  |  0.8913  |  0.8920  |\n",
    "|  20000  |  0.8949  |  0.8957  | \n",
    "|  25000  |  0.8956  |  0.8960  | "
   ]
  },
  {
   "cell_type": "markdown",
   "metadata": {},
   "source": [
    "## Experiment with momentum\n",
    "\n",
    "Try different momentums on the current state of the best network."
   ]
  },
  {
   "cell_type": "code",
   "execution_count": 37,
   "metadata": {},
   "outputs": [
    {
     "name": "stdout",
     "output_type": "stream",
     "text": [
      "Accuracy at optimal epochs: 0.8902000188827515\n"
     ]
    }
   ],
   "source": [
    "x_val, partial_x_train, y_val, partial_y_train, x_test, y_test = preprocess(25000)\n",
    "\n",
    "model = models.Sequential()\n",
    "model.add(layers.Dense(16, activation = 'relu', input_shape = (25000,)))\n",
    "model.add(layers.Dense(16, activation = 'relu'))\n",
    "model.add(layers.Dense(1, activation = 'sigmoid'))\n",
    "\n",
    "history = train(model, optimal_epoch, optimizer=optimizers.RMSprop(lr=0.001, momentum=0.15))\n",
    "print(\"Accuracy at optimal epochs:\", history.history['val_accuracy'][-1])"
   ]
  },
  {
   "cell_type": "markdown",
   "metadata": {},
   "source": [
    "## Momentum results\n",
    "\n",
    "Throughout 2 experiments, momentum of 0.15 seems to perform best on this network.\n",
    "\n",
    "|  Momentum  |  Accuracy1  |  Accuracy2  | \n",
    "| ---- | ---- | ---- |\n",
    "|  0.0  |  0.8923 |  0.8876  |\n",
    "|  0.1  |  0.8828  |  0.8891  | \n",
    "|  0.15  |  0.8913  |  0.8902  | \n",
    "|  0.2  |  0.8912  |  0.8885  |\n",
    "|  0.3  |  0.8888  |  0.8884  | \n",
    "|  0.5  |  0.8878  |  0.8855  | "
   ]
  },
  {
   "cell_type": "markdown",
   "metadata": {},
   "source": [
    "# Train best network with the optimal epochs\n",
    "\n",
    "Take my best network, find its optimal epochs, and train on all the training data for the optimal epochs. \n",
    "\n",
    "Best network:\n",
    "\n",
    "- hidden layers = 2\n",
    "- hidden units = 16\n",
    "- loss function = binary_crossentropy\n",
    "- activation function = relu\n",
    "- learning rate = 0.001\n",
    "- 25000 words\n",
    "- momentum = 0.15\n",
    "\n",
    "Try with 10 epochs to see how it performs."
   ]
  },
  {
   "cell_type": "code",
   "execution_count": 38,
   "metadata": {},
   "outputs": [
    {
     "name": "stdout",
     "output_type": "stream",
     "text": [
      "Accuracy at optimal epochs: 0.8823000192642212\n"
     ]
    },
    {
     "data": {
      "image/png": "[encoded data removed]",
      "text/plain": [
       "<Figure size 432x288 with 1 Axes>"
      ]
     },
     "metadata": {
      "needs_background": "light"
     },
     "output_type": "display_data"
    }
   ],
   "source": [
    "x_val, partial_x_train, y_val, partial_y_train, x_test, y_test = preprocess(25000)\n",
    "\n",
    "model = models.Sequential()\n",
    "model.add(layers.Dense(16, activation = 'relu', input_shape = (25000,)))\n",
    "model.add(layers.Dense(16, activation = 'relu'))\n",
    "model.add(layers.Dense(1, activation = 'sigmoid'))\n",
    "\n",
    "history = train(model, 10, optimizer=optimizers.RMSprop(lr=0.001, momentum=0.15), loss='binary_crossentropy')\n",
    "print(\"Accuracy at optimal epochs:\", history.history['val_accuracy'][-1])\n",
    "plot_accuracy(history)"
   ]
  },
  {
   "cell_type": "code",
   "execution_count": 39,
   "metadata": {},
   "outputs": [
    {
     "data": {
      "image/png": "[encoded data removed]",
      "text/plain": [
       "<Figure size 432x288 with 1 Axes>"
      ]
     },
     "metadata": {
      "needs_background": "light"
     },
     "output_type": "display_data"
    }
   ],
   "source": [
    "plot_loss(history)"
   ]
  },
  {
   "cell_type": "markdown",
   "metadata": {},
   "source": [
    "Find the optimal epochs for the best network."
   ]
  },
  {
   "cell_type": "code",
   "execution_count": 40,
   "metadata": {},
   "outputs": [
    {
     "name": "stdout",
     "output_type": "stream",
     "text": [
      "Optimal epochs: 2\n"
     ]
    }
   ],
   "source": [
    "val_loss = history.history['val_loss']\n",
    "optimal_epoch = np.argmin(val_loss)\n",
    "print(\"Optimal epochs:\", optimal_epoch)"
   ]
  },
  {
   "cell_type": "markdown",
   "metadata": {},
   "source": [
    "Train with the optimal epochs."
   ]
  },
  {
   "cell_type": "code",
   "execution_count": 41,
   "metadata": {},
   "outputs": [
    {
     "name": "stdout",
     "output_type": "stream",
     "text": [
      "Accuracy at optimal epochs: 0.8802000284194946\n"
     ]
    }
   ],
   "source": [
    "history = train(model, optimal_epoch, optimizer=optimizers.RMSprop(lr=0.001, momentum=0.15), loss='binary_crossentropy')\n",
    "print(\"Accuracy at optimal epochs:\", history.history['val_accuracy'][-1])"
   ]
  },
  {
   "cell_type": "markdown",
   "metadata": {},
   "source": [
    "## Evaluate on the test set\n",
    "\n",
    "Evaluate the best network performance on the test set."
   ]
  },
  {
   "cell_type": "code",
   "execution_count": 42,
   "metadata": {},
   "outputs": [
    {
     "name": "stdout",
     "output_type": "stream",
     "text": [
      "782/782 [==============================] - 69s 88ms/step - loss: 0.5059 - accuracy: 0.8687\n"
     ]
    }
   ],
   "source": [
    "test_loss, test_acc = model.evaluate(x_test, y_test)"
   ]
  },
  {
   "cell_type": "markdown",
   "metadata": {},
   "source": [
    "# Conclusions\n",
    "\n",
    "## Evaluation\n",
    "\n",
    "The obtained result yield an accuracy score of 0.8687, showing room for model improvement. At the same time, a series of experiments show that the results did not differ significantly, demonstrating the potential of a stable model as a predictor of movie reviews. In other words, further research on binary classification learning methods and the natural language-related dataset may help to improve the performance. For example, I might consider tuning for the dataset with 25000 words, instead of using 25000 words as the parameter and change it after tuned for 10000 words. Also, I might want to try combining unsupervised learning and supervised learning methods. For example, clustering the whole dataset with K=2 (i.e., positive and negative) without labels, add the results as an additional feature column, split the dataset, and then train with labels along with the feature column, so the network can also learn from the clustering results."
   ]
  },
  {
   "cell_type": "markdown",
   "metadata": {},
   "source": [
    "## Reproductivity\n",
    "\n",
    "\n",
    "There may be some options to run this project in another network. For example, you may reproduce it as a clustering model using unsupervised learning. You can perform dimensional reduction and principal component analysis (PCA) to reduce dimensions, extract the essence of features, and run clustering with K=2 for grouping into negative and positive clusters. The benefits are that the network does not require labels and can perform even data is limited. It has more potential as a practical application as the real-world situation is often in a similar environment. The drawback is that performance may not be as promising as supervised learning due to the model characteristics."
   ]
  },
  {
   "cell_type": "markdown",
   "metadata": {},
   "source": [
    "# References\n",
    "\n",
    "1. 9.210 IMDB. https://www.coursera.org/learn/uol-cm3015-machine-learning-and-neural-networks/ungradedLab/1nlzq/9-210-imdb"
   ]
  }
 ],
 "metadata": {
  "kernelspec": {
   "display_name": "Python 3",
   "language": "python",
   "name": "python3"
  },
  "language_info": {
   "codemirror_mode": {
    "name": "ipython",
    "version": 3
   },
   "file_extension": ".py",
   "mimetype": "text/x-python",
   "name": "python",
   "nbconvert_exporter": "python",
   "pygments_lexer": "ipython3",
   "version": "3.7.6"
  }
 },
 "nbformat": 4,
 "nbformat_minor": 2
}
